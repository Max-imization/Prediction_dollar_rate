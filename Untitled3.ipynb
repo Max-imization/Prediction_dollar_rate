{
  "nbformat": 4,
  "nbformat_minor": 0,
  "metadata": {
    "colab": {
      "name": "Untitled3.ipynb",
      "provenance": [],
      "authorship_tag": "ABX9TyNILpzYlPDy1f+yPelAmkNP",
      "include_colab_link": true
    },
    "kernelspec": {
      "name": "python3",
      "display_name": "Python 3"
    },
    "language_info": {
      "name": "python"
    }
  },
  "cells": [
    {
      "cell_type": "markdown",
      "metadata": {
        "id": "view-in-github",
        "colab_type": "text"
      },
      "source": [
        "<a href=\"https://colab.research.google.com/github/Max-imization/Prediction_dollar_rate/blob/main/Untitled3.ipynb\" target=\"_parent\"><img src=\"https://colab.research.google.com/assets/colab-badge.svg\" alt=\"Open In Colab\"/></a>"
      ]
    },
    {
      "cell_type": "code",
      "metadata": {
        "id": "eq4bB6rRhtSP"
      },
      "source": [
        "import numpy as np"
      ],
      "execution_count": 19,
      "outputs": []
    },
    {
      "cell_type": "code",
      "metadata": {
        "id": "vsvNTQneh9Mh"
      },
      "source": [
        "def nonlin(x,deriv=False):\n",
        "    if (deriv==True):\n",
        "        return x*(1-x)\n",
        "\n",
        "    return 1/(1+np.exp(-x))   "
      ],
      "execution_count": 30,
      "outputs": []
    },
    {
      "cell_type": "code",
      "metadata": {
        "id": "2ecEibMqkFKV"
      },
      "source": [
        "# input data\n",
        "X = np.array([[0,0,1],\n",
        "              [0,1,1],\n",
        "              [1,0,1],\n",
        "              [1,1,1]])\n",
        "\n",
        "y = np.array([[0],\n",
        "              [1],\n",
        "              [1],\n",
        "              [0]])\n",
        "\n",
        "np.random.seed(1)"
      ],
      "execution_count": 31,
      "outputs": []
    },
    {
      "cell_type": "code",
      "metadata": {
        "id": "O0yF2kKomQWu"
      },
      "source": [
        "# synapses\n",
        "\n",
        "syn0 = 2*np.random.random((3,4)) - 1\n",
        "syn1 = 2*np.random.random((4,1)) - 1"
      ],
      "execution_count": 32,
      "outputs": []
    },
    {
      "cell_type": "code",
      "metadata": {
        "colab": {
          "base_uri": "https://localhost:8080/"
        },
        "id": "FryE77LfnFk4",
        "outputId": "89113ca3-5711-46ce-ce2e-d8f64444aad7"
      },
      "source": [
        "for j in range(60000):  \n",
        "    \n",
        "    # Calculate forward through the network.\n",
        "    l0 = X\n",
        "    l1 = nonlin(np.dot(l0, syn0))\n",
        "    l2 = nonlin(np.dot(l1, syn1))\n",
        "    \n",
        "    # Back propagation of errors using the chain rule. \n",
        "    l2_error = y - l2\n",
        "    if (j % 10000) == 0:   # Only print the error every 10000 steps, to save time and limit the amount of output. \n",
        "        print(\"Error: \" + str(np.mean(np.abs(l2_error))))\n",
        "        \n",
        "    l2_delta = l2_error*nonlin(l2, deriv=True)\n",
        "    \n",
        "    l1_error = l2_delta.dot(syn1.T)\n",
        "    \n",
        "    l1_delta = l1_error * nonlin(l1,deriv=True)\n",
        "\n",
        "    syn1 += l1.T.dot(l2_delta)\n",
        "    syn0 += l0.T.dot(l1_delta)\n",
        "\n",
        "print (\"Output after training\")\n",
        "print (l2)"
      ],
      "execution_count": 41,
      "outputs": [
        {
          "output_type": "stream",
          "text": [
            "Error: 0.49629578894383997\n",
            "Error: 0.008584026291886765\n",
            "Error: 0.005789298673620474\n",
            "Error: 0.0046290924058212425\n",
            "Error: 0.003958711738257687\n",
            "Error: 0.003510084860307532\n",
            "Output after training\n",
            "[[0.0026057 ]\n",
            " [0.99672212]\n",
            " [0.99701713]\n",
            " [0.00386756]]\n"
          ],
          "name": "stdout"
        }
      ]
    },
    {
      "cell_type": "code",
      "metadata": {
        "id": "rsA-gFV63JZf"
      },
      "source": [
        "# final output closely approximates the true output [0, 1, 1, 0]"
      ],
      "execution_count": null,
      "outputs": []
    }
  ]
}